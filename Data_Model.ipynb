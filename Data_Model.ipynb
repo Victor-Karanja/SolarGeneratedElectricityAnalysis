{
 "cells": [
  {
   "cell_type": "markdown",
   "metadata": {},
   "source": [
    "## Junior Data Analyst Interview Task"
   ]
  },
  {
   "cell_type": "markdown",
   "metadata": {},
   "source": [
    "Construct a model that produces the following calculations and charts. You should ensure that your model contains appropriate self-checks and that you have performed reasonableness checks at each stage of your calculations.\n",
    "\n",
    "(i)\tCarry out checks on the data provided to confirm that the data is complete and fit for use. This should include:\n",
    "\n",
    "•\tcreating a graph showing the average solar electricity generation and average electricity usage for each hour in a  day, i.e. the average over all amounts for 1 am, and each subsequent hour within a 24-hour period.\n",
    "•\tinvestigating any significant outliers.\n",
    "•\tmaking any corrections that are needed.\n",
    "\n",
    "\n",
    "(ii)\tCalculate, for each hour in 2020, the amount of electricity that needed to be bought from the electricity provider (measured in kWh and subject to a minimum of zero).\n",
    "\n",
    "\n",
    "(iii)\tCalculate, for each hour in 2020, the excess solar electricity generated over electricity used (measured in kWh and subject to a minimum of zero).\n",
    "\n",
    "(iv)\tModel the cumulative battery charge level (measured in kWh) for each hour over 2020, assuming a battery had already been installed.\n",
    "\n",
    "The battery charge level should:\n",
    "\n",
    "•   begin at zero at 1 January 2020 00:00.\n",
    "\n",
    "•\tallow for the increase or decrease in charge level depending on the hourly results of parts (ii) and (iii).\n",
    "\n",
    "•\tbe subject to the cap on the maximum battery charge level.\n",
    "\n",
    "\n",
    "(v)     Calculate the amount of electricity for each hour in 2020 that would have been bought from the electricity provider (measured in kWh and subject to a minimum of zero), assuming a battery had already been installed.\t\n",
    "\n",
    "(vi)\tCalculate the saving over 2020 (in dollars ($), using 1 January 2022 electricity prices and ignoring discounting) from installing a battery compared to using the existing solar panels alone.\t\n",
    " \n",
    "(vii)\tTabulate the data appropriately and then produce a chart to illustrate, on a monthly basis for the calendar year and measured in kWh, the:\n",
    "\n",
    "•\tmonthly solar generation.\n",
    "•\tmonthly electricity usage.\n",
    "•\tmonthly electricity purchased from the electricity provider (no battery).\n",
    "•\tmonthly electricity purchased from the electricity provider (with battery).\n"
   ]
  },
  {
   "cell_type": "code",
   "execution_count": 1,
   "metadata": {},
   "outputs": [],
   "source": [
    "import pandas as pd # responsible for dataframe management\n",
    "import matplotlib.pyplot as plt # Responsible for data Visualisation\n",
    "import numpy as np # Responsible for mathematical manipulation\n",
    "import seaborn as sns # Responsible for data Visualisation"
   ]
  },
  {
   "cell_type": "code",
   "execution_count": 2,
   "metadata": {},
   "outputs": [
    {
     "data": {
      "text/html": [
       "<div>\n",
       "<style scoped>\n",
       "    .dataframe tbody tr th:only-of-type {\n",
       "        vertical-align: middle;\n",
       "    }\n",
       "\n",
       "    .dataframe tbody tr th {\n",
       "        vertical-align: top;\n",
       "    }\n",
       "\n",
       "    .dataframe thead th {\n",
       "        text-align: right;\n",
       "    }\n",
       "</style>\n",
       "<table border=\"1\" class=\"dataframe\">\n",
       "  <thead>\n",
       "    <tr style=\"text-align: right;\">\n",
       "      <th></th>\n",
       "      <th>Hour</th>\n",
       "      <th>Date/hour start</th>\n",
       "      <th>Solar electricity generation (kWh)</th>\n",
       "      <th>Electricity usage (kWh)</th>\n",
       "    </tr>\n",
       "  </thead>\n",
       "  <tbody>\n",
       "    <tr>\n",
       "      <th>0</th>\n",
       "      <td>0</td>\n",
       "      <td>1/1/2020 0:00</td>\n",
       "      <td>0.0</td>\n",
       "      <td>1.509849</td>\n",
       "    </tr>\n",
       "    <tr>\n",
       "      <th>1</th>\n",
       "      <td>1</td>\n",
       "      <td>1/1/2020 1:00</td>\n",
       "      <td>0.0</td>\n",
       "      <td>1.411859</td>\n",
       "    </tr>\n",
       "    <tr>\n",
       "      <th>2</th>\n",
       "      <td>2</td>\n",
       "      <td>1/1/2020 2:00</td>\n",
       "      <td>0.0</td>\n",
       "      <td>1.023898</td>\n",
       "    </tr>\n",
       "    <tr>\n",
       "      <th>3</th>\n",
       "      <td>3</td>\n",
       "      <td>1/1/2020 3:00</td>\n",
       "      <td>0.0</td>\n",
       "      <td>0.642000</td>\n",
       "    </tr>\n",
       "    <tr>\n",
       "      <th>4</th>\n",
       "      <td>4</td>\n",
       "      <td>1/1/2020 4:00</td>\n",
       "      <td>0.0</td>\n",
       "      <td>0.960000</td>\n",
       "    </tr>\n",
       "  </tbody>\n",
       "</table>\n",
       "</div>"
      ],
      "text/plain": [
       "   Hour Date/hour start  Solar electricity generation (kWh)  \\\n",
       "0     0   1/1/2020 0:00                                 0.0   \n",
       "1     1   1/1/2020 1:00                                 0.0   \n",
       "2     2   1/1/2020 2:00                                 0.0   \n",
       "3     3   1/1/2020 3:00                                 0.0   \n",
       "4     4   1/1/2020 4:00                                 0.0   \n",
       "\n",
       "   Electricity usage (kWh)  \n",
       "0                 1.509849  \n",
       "1                 1.411859  \n",
       "2                 1.023898  \n",
       "3                 0.642000  \n",
       "4                 0.960000  "
      ]
     },
     "execution_count": 2,
     "metadata": {},
     "output_type": "execute_result"
    }
   ],
   "source": [
    "# Load the Dataset and inspect the first 5 rows.\n",
    "df = pd.read_csv('Junior_Data_Analyst_Data_Provided.csv')\n",
    "df.head()"
   ]
  },
  {
   "cell_type": "code",
   "execution_count": 3,
   "metadata": {},
   "outputs": [
    {
     "data": {
      "text/html": [
       "<div>\n",
       "<style scoped>\n",
       "    .dataframe tbody tr th:only-of-type {\n",
       "        vertical-align: middle;\n",
       "    }\n",
       "\n",
       "    .dataframe tbody tr th {\n",
       "        vertical-align: top;\n",
       "    }\n",
       "\n",
       "    .dataframe thead th {\n",
       "        text-align: right;\n",
       "    }\n",
       "</style>\n",
       "<table border=\"1\" class=\"dataframe\">\n",
       "  <thead>\n",
       "    <tr style=\"text-align: right;\">\n",
       "      <th></th>\n",
       "      <th>Hour</th>\n",
       "      <th>Solar electricity generation (kWh)</th>\n",
       "      <th>Electricity usage (kWh)</th>\n",
       "      <th>Date</th>\n",
       "    </tr>\n",
       "  </thead>\n",
       "  <tbody>\n",
       "    <tr>\n",
       "      <th>0</th>\n",
       "      <td>0</td>\n",
       "      <td>0.000</td>\n",
       "      <td>1.509849</td>\n",
       "      <td>1/1/2020</td>\n",
       "    </tr>\n",
       "    <tr>\n",
       "      <th>1</th>\n",
       "      <td>1</td>\n",
       "      <td>0.000</td>\n",
       "      <td>1.411859</td>\n",
       "      <td>1/1/2020</td>\n",
       "    </tr>\n",
       "    <tr>\n",
       "      <th>2</th>\n",
       "      <td>2</td>\n",
       "      <td>0.000</td>\n",
       "      <td>1.023898</td>\n",
       "      <td>1/1/2020</td>\n",
       "    </tr>\n",
       "    <tr>\n",
       "      <th>3</th>\n",
       "      <td>3</td>\n",
       "      <td>0.000</td>\n",
       "      <td>0.642000</td>\n",
       "      <td>1/1/2020</td>\n",
       "    </tr>\n",
       "    <tr>\n",
       "      <th>4</th>\n",
       "      <td>4</td>\n",
       "      <td>0.000</td>\n",
       "      <td>0.960000</td>\n",
       "      <td>1/1/2020</td>\n",
       "    </tr>\n",
       "    <tr>\n",
       "      <th>...</th>\n",
       "      <td>...</td>\n",
       "      <td>...</td>\n",
       "      <td>...</td>\n",
       "      <td>...</td>\n",
       "    </tr>\n",
       "    <tr>\n",
       "      <th>8755</th>\n",
       "      <td>19</td>\n",
       "      <td>0.012</td>\n",
       "      <td>4.395600</td>\n",
       "      <td>12/31/2020</td>\n",
       "    </tr>\n",
       "    <tr>\n",
       "      <th>8756</th>\n",
       "      <td>20</td>\n",
       "      <td>0.003</td>\n",
       "      <td>4.560600</td>\n",
       "      <td>12/31/2020</td>\n",
       "    </tr>\n",
       "    <tr>\n",
       "      <th>8757</th>\n",
       "      <td>21</td>\n",
       "      <td>0.000</td>\n",
       "      <td>2.022000</td>\n",
       "      <td>12/31/2020</td>\n",
       "    </tr>\n",
       "    <tr>\n",
       "      <th>8758</th>\n",
       "      <td>22</td>\n",
       "      <td>0.015</td>\n",
       "      <td>1.668000</td>\n",
       "      <td>12/31/2020</td>\n",
       "    </tr>\n",
       "    <tr>\n",
       "      <th>8759</th>\n",
       "      <td>23</td>\n",
       "      <td>0.000</td>\n",
       "      <td>0.805919</td>\n",
       "      <td>12/31/2020</td>\n",
       "    </tr>\n",
       "  </tbody>\n",
       "</table>\n",
       "<p>8760 rows × 4 columns</p>\n",
       "</div>"
      ],
      "text/plain": [
       "      Hour  Solar electricity generation (kWh)  Electricity usage (kWh)  \\\n",
       "0        0                               0.000                 1.509849   \n",
       "1        1                               0.000                 1.411859   \n",
       "2        2                               0.000                 1.023898   \n",
       "3        3                               0.000                 0.642000   \n",
       "4        4                               0.000                 0.960000   \n",
       "...    ...                                 ...                      ...   \n",
       "8755    19                               0.012                 4.395600   \n",
       "8756    20                               0.003                 4.560600   \n",
       "8757    21                               0.000                 2.022000   \n",
       "8758    22                               0.015                 1.668000   \n",
       "8759    23                               0.000                 0.805919   \n",
       "\n",
       "            Date  \n",
       "0       1/1/2020  \n",
       "1       1/1/2020  \n",
       "2       1/1/2020  \n",
       "3       1/1/2020  \n",
       "4       1/1/2020  \n",
       "...          ...  \n",
       "8755  12/31/2020  \n",
       "8756  12/31/2020  \n",
       "8757  12/31/2020  \n",
       "8758  12/31/2020  \n",
       "8759  12/31/2020  \n",
       "\n",
       "[8760 rows x 4 columns]"
      ]
     },
     "execution_count": 3,
     "metadata": {},
     "output_type": "execute_result"
    }
   ],
   "source": [
    "# Remove the time from the date/hour start since its a repetiotion of the hours column\n",
    "df['Date']=[df['Date/hour start'][i].split(' ')[0] for i in range(len(df['Date/hour start']))]\n",
    "df.drop(columns='Date/hour start', inplace= True, axis=1)\n",
    "df"
   ]
  },
  {
   "cell_type": "code",
   "execution_count": 4,
   "metadata": {},
   "outputs": [
    {
     "name": "stdout",
     "output_type": "stream",
     "text": [
      "<class 'pandas.core.frame.DataFrame'>\n",
      "RangeIndex: 8760 entries, 0 to 8759\n",
      "Data columns (total 4 columns):\n",
      " #   Column                              Non-Null Count  Dtype  \n",
      "---  ------                              --------------  -----  \n",
      " 0   Hour                                8760 non-null   int64  \n",
      " 1   Solar electricity generation (kWh)  8760 non-null   float64\n",
      " 2   Electricity usage (kWh)             8760 non-null   float64\n",
      " 3   Date                                8760 non-null   object \n",
      "dtypes: float64(2), int64(1), object(1)\n",
      "memory usage: 273.9+ KB\n"
     ]
    }
   ],
   "source": [
    "# Inspect the data type of the dataset\n",
    "df.info()"
   ]
  },
  {
   "cell_type": "code",
   "execution_count": 5,
   "metadata": {},
   "outputs": [
    {
     "name": "stdout",
     "output_type": "stream",
     "text": [
      "<class 'pandas.core.frame.DataFrame'>\n",
      "RangeIndex: 8760 entries, 0 to 8759\n",
      "Data columns (total 4 columns):\n",
      " #   Column                              Non-Null Count  Dtype         \n",
      "---  ------                              --------------  -----         \n",
      " 0   Hour                                8760 non-null   int64         \n",
      " 1   Solar electricity generation (kWh)  8760 non-null   float64       \n",
      " 2   Electricity usage (kWh)             8760 non-null   float64       \n",
      " 3   Date                                8760 non-null   datetime64[ns]\n",
      "dtypes: datetime64[ns](1), float64(2), int64(1)\n",
      "memory usage: 273.9 KB\n"
     ]
    }
   ],
   "source": [
    "# Change the datatype for date to datetime and strip the time.\n",
    "df['Date']=df['Date'].astype('datetime64')\n",
    "df.info()"
   ]
  },
  {
   "cell_type": "code",
   "execution_count": 6,
   "metadata": {},
   "outputs": [
    {
     "data": {
      "text/html": [
       "<div>\n",
       "<style scoped>\n",
       "    .dataframe tbody tr th:only-of-type {\n",
       "        vertical-align: middle;\n",
       "    }\n",
       "\n",
       "    .dataframe tbody tr th {\n",
       "        vertical-align: top;\n",
       "    }\n",
       "\n",
       "    .dataframe thead th {\n",
       "        text-align: right;\n",
       "    }\n",
       "</style>\n",
       "<table border=\"1\" class=\"dataframe\">\n",
       "  <thead>\n",
       "    <tr style=\"text-align: right;\">\n",
       "      <th></th>\n",
       "      <th>Hour</th>\n",
       "      <th>Solar electricity generation (kWh)</th>\n",
       "      <th>Electricity usage (kWh)</th>\n",
       "      <th>Date</th>\n",
       "    </tr>\n",
       "  </thead>\n",
       "  <tbody>\n",
       "    <tr>\n",
       "      <th>0</th>\n",
       "      <td>0</td>\n",
       "      <td>0.000</td>\n",
       "      <td>1.509849</td>\n",
       "      <td>2020-01-01</td>\n",
       "    </tr>\n",
       "    <tr>\n",
       "      <th>1</th>\n",
       "      <td>1</td>\n",
       "      <td>0.000</td>\n",
       "      <td>1.411859</td>\n",
       "      <td>2020-01-01</td>\n",
       "    </tr>\n",
       "    <tr>\n",
       "      <th>2</th>\n",
       "      <td>2</td>\n",
       "      <td>0.000</td>\n",
       "      <td>1.023898</td>\n",
       "      <td>2020-01-01</td>\n",
       "    </tr>\n",
       "    <tr>\n",
       "      <th>3</th>\n",
       "      <td>3</td>\n",
       "      <td>0.000</td>\n",
       "      <td>0.642000</td>\n",
       "      <td>2020-01-01</td>\n",
       "    </tr>\n",
       "    <tr>\n",
       "      <th>4</th>\n",
       "      <td>4</td>\n",
       "      <td>0.000</td>\n",
       "      <td>0.960000</td>\n",
       "      <td>2020-01-01</td>\n",
       "    </tr>\n",
       "    <tr>\n",
       "      <th>5</th>\n",
       "      <td>5</td>\n",
       "      <td>0.012</td>\n",
       "      <td>0.897000</td>\n",
       "      <td>2020-01-01</td>\n",
       "    </tr>\n",
       "    <tr>\n",
       "      <th>6</th>\n",
       "      <td>6</td>\n",
       "      <td>0.006</td>\n",
       "      <td>0.648000</td>\n",
       "      <td>2020-01-01</td>\n",
       "    </tr>\n",
       "    <tr>\n",
       "      <th>7</th>\n",
       "      <td>7</td>\n",
       "      <td>0.009</td>\n",
       "      <td>0.774000</td>\n",
       "      <td>2020-01-01</td>\n",
       "    </tr>\n",
       "    <tr>\n",
       "      <th>8</th>\n",
       "      <td>8</td>\n",
       "      <td>0.012</td>\n",
       "      <td>1.299000</td>\n",
       "      <td>2020-01-01</td>\n",
       "    </tr>\n",
       "    <tr>\n",
       "      <th>9</th>\n",
       "      <td>9</td>\n",
       "      <td>0.846</td>\n",
       "      <td>0.606000</td>\n",
       "      <td>2020-01-01</td>\n",
       "    </tr>\n",
       "    <tr>\n",
       "      <th>10</th>\n",
       "      <td>10</td>\n",
       "      <td>0.000</td>\n",
       "      <td>0.000000</td>\n",
       "      <td>2020-01-01</td>\n",
       "    </tr>\n",
       "    <tr>\n",
       "      <th>11</th>\n",
       "      <td>11</td>\n",
       "      <td>0.000</td>\n",
       "      <td>0.000000</td>\n",
       "      <td>2020-01-01</td>\n",
       "    </tr>\n",
       "    <tr>\n",
       "      <th>12</th>\n",
       "      <td>12</td>\n",
       "      <td>0.651</td>\n",
       "      <td>0.396000</td>\n",
       "      <td>2020-01-01</td>\n",
       "    </tr>\n",
       "    <tr>\n",
       "      <th>13</th>\n",
       "      <td>13</td>\n",
       "      <td>0.363</td>\n",
       "      <td>0.615000</td>\n",
       "      <td>2020-01-01</td>\n",
       "    </tr>\n",
       "    <tr>\n",
       "      <th>14</th>\n",
       "      <td>14</td>\n",
       "      <td>0.303</td>\n",
       "      <td>1.419000</td>\n",
       "      <td>2020-01-01</td>\n",
       "    </tr>\n",
       "  </tbody>\n",
       "</table>\n",
       "</div>"
      ],
      "text/plain": [
       "    Hour  Solar electricity generation (kWh)  Electricity usage (kWh)  \\\n",
       "0      0                               0.000                 1.509849   \n",
       "1      1                               0.000                 1.411859   \n",
       "2      2                               0.000                 1.023898   \n",
       "3      3                               0.000                 0.642000   \n",
       "4      4                               0.000                 0.960000   \n",
       "5      5                               0.012                 0.897000   \n",
       "6      6                               0.006                 0.648000   \n",
       "7      7                               0.009                 0.774000   \n",
       "8      8                               0.012                 1.299000   \n",
       "9      9                               0.846                 0.606000   \n",
       "10    10                               0.000                 0.000000   \n",
       "11    11                               0.000                 0.000000   \n",
       "12    12                               0.651                 0.396000   \n",
       "13    13                               0.363                 0.615000   \n",
       "14    14                               0.303                 1.419000   \n",
       "\n",
       "         Date  \n",
       "0  2020-01-01  \n",
       "1  2020-01-01  \n",
       "2  2020-01-01  \n",
       "3  2020-01-01  \n",
       "4  2020-01-01  \n",
       "5  2020-01-01  \n",
       "6  2020-01-01  \n",
       "7  2020-01-01  \n",
       "8  2020-01-01  \n",
       "9  2020-01-01  \n",
       "10 2020-01-01  \n",
       "11 2020-01-01  \n",
       "12 2020-01-01  \n",
       "13 2020-01-01  \n",
       "14 2020-01-01  "
      ]
     },
     "execution_count": 6,
     "metadata": {},
     "output_type": "execute_result"
    }
   ],
   "source": [
    "df.head(15)"
   ]
  },
  {
   "cell_type": "code",
   "execution_count": 7,
   "metadata": {},
   "outputs": [
    {
     "name": "stdout",
     "output_type": "stream",
     "text": [
      "The Size of the dataset provided is 8760 rows and 4 columns\n",
      "There are the following null values: \n",
      "\n",
      "Hour                                  0\n",
      "Solar electricity generation (kWh)    0\n",
      "Electricity usage (kWh)               0\n",
      "Date                                  0\n",
      "dtype: int64\n"
     ]
    }
   ],
   "source": [
    "# Identify the size of the dataset and the number of null values\n",
    "print (f'The Size of the dataset provided is {df.shape[0]} rows and {df.shape[1]} columns')\n",
    "print(f'There are the following null values: \\n\\n{df.isnull().sum()}')"
   ]
  },
  {
   "cell_type": "code",
   "execution_count": 8,
   "metadata": {},
   "outputs": [
    {
     "data": {
      "text/html": [
       "<div>\n",
       "<style scoped>\n",
       "    .dataframe tbody tr th:only-of-type {\n",
       "        vertical-align: middle;\n",
       "    }\n",
       "\n",
       "    .dataframe tbody tr th {\n",
       "        vertical-align: top;\n",
       "    }\n",
       "\n",
       "    .dataframe thead th {\n",
       "        text-align: right;\n",
       "    }\n",
       "</style>\n",
       "<table border=\"1\" class=\"dataframe\">\n",
       "  <thead>\n",
       "    <tr style=\"text-align: right;\">\n",
       "      <th></th>\n",
       "      <th>Solar electricity generation (kWh)</th>\n",
       "      <th>Electricity usage (kWh)</th>\n",
       "    </tr>\n",
       "  </thead>\n",
       "  <tbody>\n",
       "    <tr>\n",
       "      <th>count</th>\n",
       "      <td>8760.000000</td>\n",
       "      <td>8760.000000</td>\n",
       "    </tr>\n",
       "    <tr>\n",
       "      <th>mean</th>\n",
       "      <td>1.116750</td>\n",
       "      <td>2.067200</td>\n",
       "    </tr>\n",
       "    <tr>\n",
       "      <th>std</th>\n",
       "      <td>2.026098</td>\n",
       "      <td>4.668749</td>\n",
       "    </tr>\n",
       "    <tr>\n",
       "      <th>min</th>\n",
       "      <td>0.000000</td>\n",
       "      <td>-12.624000</td>\n",
       "    </tr>\n",
       "    <tr>\n",
       "      <th>25%</th>\n",
       "      <td>0.000000</td>\n",
       "      <td>0.300000</td>\n",
       "    </tr>\n",
       "    <tr>\n",
       "      <th>50%</th>\n",
       "      <td>0.024000</td>\n",
       "      <td>0.621000</td>\n",
       "    </tr>\n",
       "    <tr>\n",
       "      <th>75%</th>\n",
       "      <td>1.272750</td>\n",
       "      <td>1.686000</td>\n",
       "    </tr>\n",
       "    <tr>\n",
       "      <th>max</th>\n",
       "      <td>13.050000</td>\n",
       "      <td>61.102800</td>\n",
       "    </tr>\n",
       "  </tbody>\n",
       "</table>\n",
       "</div>"
      ],
      "text/plain": [
       "       Solar electricity generation (kWh)  Electricity usage (kWh)\n",
       "count                         8760.000000              8760.000000\n",
       "mean                             1.116750                 2.067200\n",
       "std                              2.026098                 4.668749\n",
       "min                              0.000000               -12.624000\n",
       "25%                              0.000000                 0.300000\n",
       "50%                              0.024000                 0.621000\n",
       "75%                              1.272750                 1.686000\n",
       "max                             13.050000                61.102800"
      ]
     },
     "execution_count": 8,
     "metadata": {},
     "output_type": "execute_result"
    }
   ],
   "source": [
    "df[['Solar electricity generation (kWh)','Electricity usage (kWh)']].describe()"
   ]
  },
  {
   "cell_type": "markdown",
   "metadata": {},
   "source": [
    "1. There seems to be a disturbance in the electricity usage since the lowest record shows a negative usage. Further Analysis are done to see the frequency of negative data.\n",
    "2. The average consumption of electricity was higher than that of solar energy generated."
   ]
  },
  {
   "cell_type": "code",
   "execution_count": 9,
   "metadata": {},
   "outputs": [
    {
     "name": "stdout",
     "output_type": "stream",
     "text": [
      "The maximum electricity generated from solar is\n",
      "      4.682206896551724 times less than the maximum electricity load needed\n"
     ]
    }
   ],
   "source": [
    "print(f'''The maximum electricity generated from solar is\n",
    "      {np.divide(max(df['Electricity usage (kWh)']), max(df['Solar electricity generation (kWh)']))} times less than the maximum electricity load needed''')"
   ]
  },
  {
   "cell_type": "code",
   "execution_count": 10,
   "metadata": {},
   "outputs": [
    {
     "name": "stdout",
     "output_type": "stream",
     "text": [
      "The number of negative electic usages in 2020 are 5\n"
     ]
    }
   ],
   "source": [
    "negative_electric_usage = df[df['Electricity usage (kWh)']<0].value_counts().sum()\n",
    "print(f'The number of negative electic usages in 2020 are {negative_electric_usage}')"
   ]
  },
  {
   "cell_type": "code",
   "execution_count": 11,
   "metadata": {},
   "outputs": [
    {
     "data": {
      "text/plain": [
       "Hour  Solar electricity generation (kWh)  Electricity usage (kWh)  Date      \n",
       "8     0.717                               -1.9770                  2020-09-27    1\n",
       "17    0.006                               -12.6240                 2020-01-01    1\n",
       "      1.185                               -2.5140                  2020-05-30    1\n",
       "21    0.006                               -2.1330                  2020-02-08    1\n",
       "23    0.000                               -0.2175                  2020-02-08    1\n",
       "dtype: int64"
      ]
     },
     "execution_count": 11,
     "metadata": {},
     "output_type": "execute_result"
    }
   ],
   "source": [
    "df[df['Electricity usage (kWh)']<0].value_counts()"
   ]
  },
  {
   "cell_type": "markdown",
   "metadata": {},
   "source": [
    "Since it is against logic from the definition of Electricity Usage to have negative usage, the negative values were\n",
    "replaced with zero (0).\n"
   ]
  },
  {
   "cell_type": "code",
   "execution_count": 12,
   "metadata": {},
   "outputs": [],
   "source": [
    "df['Electricity usage (kWh)']=df['Electricity usage (kWh)'].apply(lambda x: 0 if x < 0 else x)"
   ]
  },
  {
   "cell_type": "code",
   "execution_count": 13,
   "metadata": {},
   "outputs": [
    {
     "name": "stdout",
     "output_type": "stream",
     "text": [
      "The number of negative electic usages in 2020 are 0\n"
     ]
    }
   ],
   "source": [
    "#Inspect the new dataset to confirm the negative usages were changed to zero\n",
    "negative_electric_usage = df[df['Electricity usage (kWh)']<0].value_counts().sum()\n",
    "print(f'The number of negative electic usages in 2020 are {negative_electric_usage}')"
   ]
  },
  {
   "cell_type": "code",
   "execution_count": 14,
   "metadata": {},
   "outputs": [
    {
     "data": {
      "text/html": [
       "<div>\n",
       "<style scoped>\n",
       "    .dataframe tbody tr th:only-of-type {\n",
       "        vertical-align: middle;\n",
       "    }\n",
       "\n",
       "    .dataframe tbody tr th {\n",
       "        vertical-align: top;\n",
       "    }\n",
       "\n",
       "    .dataframe thead th {\n",
       "        text-align: right;\n",
       "    }\n",
       "</style>\n",
       "<table border=\"1\" class=\"dataframe\">\n",
       "  <thead>\n",
       "    <tr style=\"text-align: right;\">\n",
       "      <th></th>\n",
       "      <th>Hour</th>\n",
       "      <th>Solar electricity generation (kWh)</th>\n",
       "      <th>Electricity usage (kWh)</th>\n",
       "    </tr>\n",
       "  </thead>\n",
       "  <tbody>\n",
       "    <tr>\n",
       "      <th>count</th>\n",
       "      <td>8760.000000</td>\n",
       "      <td>8760.000000</td>\n",
       "      <td>8760.000000</td>\n",
       "    </tr>\n",
       "    <tr>\n",
       "      <th>mean</th>\n",
       "      <td>11.500000</td>\n",
       "      <td>1.116750</td>\n",
       "      <td>2.069422</td>\n",
       "    </tr>\n",
       "    <tr>\n",
       "      <th>std</th>\n",
       "      <td>6.922582</td>\n",
       "      <td>2.026098</td>\n",
       "      <td>4.665634</td>\n",
       "    </tr>\n",
       "    <tr>\n",
       "      <th>min</th>\n",
       "      <td>0.000000</td>\n",
       "      <td>0.000000</td>\n",
       "      <td>0.000000</td>\n",
       "    </tr>\n",
       "    <tr>\n",
       "      <th>25%</th>\n",
       "      <td>5.750000</td>\n",
       "      <td>0.000000</td>\n",
       "      <td>0.300000</td>\n",
       "    </tr>\n",
       "    <tr>\n",
       "      <th>50%</th>\n",
       "      <td>11.500000</td>\n",
       "      <td>0.024000</td>\n",
       "      <td>0.621000</td>\n",
       "    </tr>\n",
       "    <tr>\n",
       "      <th>75%</th>\n",
       "      <td>17.250000</td>\n",
       "      <td>1.272750</td>\n",
       "      <td>1.686000</td>\n",
       "    </tr>\n",
       "    <tr>\n",
       "      <th>max</th>\n",
       "      <td>23.000000</td>\n",
       "      <td>13.050000</td>\n",
       "      <td>61.102800</td>\n",
       "    </tr>\n",
       "  </tbody>\n",
       "</table>\n",
       "</div>"
      ],
      "text/plain": [
       "              Hour  Solar electricity generation (kWh)  \\\n",
       "count  8760.000000                         8760.000000   \n",
       "mean     11.500000                            1.116750   \n",
       "std       6.922582                            2.026098   \n",
       "min       0.000000                            0.000000   \n",
       "25%       5.750000                            0.000000   \n",
       "50%      11.500000                            0.024000   \n",
       "75%      17.250000                            1.272750   \n",
       "max      23.000000                           13.050000   \n",
       "\n",
       "       Electricity usage (kWh)  \n",
       "count              8760.000000  \n",
       "mean                  2.069422  \n",
       "std                   4.665634  \n",
       "min                   0.000000  \n",
       "25%                   0.300000  \n",
       "50%                   0.621000  \n",
       "75%                   1.686000  \n",
       "max                  61.102800  "
      ]
     },
     "execution_count": 14,
     "metadata": {},
     "output_type": "execute_result"
    }
   ],
   "source": [
    "df.describe()"
   ]
  },
  {
   "cell_type": "markdown",
   "metadata": {},
   "source": [
    "## Visualisation of the Data"
   ]
  },
  {
   "cell_type": "code",
   "execution_count": 15,
   "metadata": {},
   "outputs": [
    {
     "data": {
      "text/plain": [
       "Text(0.5, 1.0, 'Mean Solar Electricity Generation per Hour')"
      ]
     },
     "execution_count": 15,
     "metadata": {},
     "output_type": "execute_result"
    },
    {
     "data": {
      "image/png": "[encoded data removed]",
      "text/plain": [
       "<Figure size 1000x500 with 1 Axes>"
      ]
     },
     "metadata": {},
     "output_type": "display_data"
    }
   ],
   "source": [
    "Ave_Solar_Gen=df['Solar electricity generation (kWh)'].groupby(df['Hour']).mean()\n",
    "fig =plt.figure(figsize=(10,5))\n",
    "sns.barplot(x='Hour',y=Ave_Solar_Gen, data=df)\n",
    "plt.title('Mean Solar Electricity Generation per Hour')"
   ]
  },
  {
   "cell_type": "code",
   "execution_count": 16,
   "metadata": {},
   "outputs": [],
   "source": [
    "df['Bought Electricity']= df['Electricity usage (kWh)']-df['Solar electricity generation (kWh)']\n",
    "df['Bought Electricity']=df['Bought Electricity'].apply(lambda x: 0 if x<0 else x )"
   ]
  },
  {
   "cell_type": "code",
   "execution_count": 17,
   "metadata": {},
   "outputs": [
    {
     "data": {
      "text/plain": [
       "Hour\n",
       "0     0.816471\n",
       "1     0.400686\n",
       "2     0.250623\n",
       "3     0.407688\n",
       "4     0.491866\n",
       "5     0.477241\n",
       "6     1.728090\n",
       "7     1.307079\n",
       "8     1.222389\n",
       "9     1.063504\n",
       "10    1.140247\n",
       "11    1.050189\n",
       "12    1.336111\n",
       "13    0.918419\n",
       "14    0.764745\n",
       "15    0.929885\n",
       "16    1.174471\n",
       "17    2.243671\n",
       "18    5.979427\n",
       "19    6.008757\n",
       "20    4.830945\n",
       "21    2.729852\n",
       "22    4.559416\n",
       "23    1.098154\n",
       "Name: Bought Electricity, dtype: float64"
      ]
     },
     "execution_count": 17,
     "metadata": {},
     "output_type": "execute_result"
    }
   ],
   "source": [
    "Average_Energy_bought = df['Bought Electricity'].groupby(df['Hour']).mean()\n",
    "Average_Energy_bought"
   ]
  },
  {
   "cell_type": "code",
   "execution_count": 18,
   "metadata": {},
   "outputs": [
    {
     "data": {
      "text/plain": [
       "Hour\n",
       "0     0.000000\n",
       "1     0.000000\n",
       "2     0.000000\n",
       "3     0.000000\n",
       "4     0.000000\n",
       "5     0.000000\n",
       "6     0.000000\n",
       "7     0.000000\n",
       "8     0.401729\n",
       "9     1.259959\n",
       "10    1.696866\n",
       "11    2.066490\n",
       "12    1.387519\n",
       "13    1.499852\n",
       "14    1.131674\n",
       "15    0.252699\n",
       "16    0.000000\n",
       "17    0.000000\n",
       "18    0.000000\n",
       "19    0.000000\n",
       "20    0.000000\n",
       "21    0.000000\n",
       "22    0.000000\n",
       "23    0.000000\n",
       "dtype: float64"
      ]
     },
     "execution_count": 18,
     "metadata": {},
     "output_type": "execute_result"
    }
   ],
   "source": [
    "Ave_Elec_Used=df['Electricity usage (kWh)'].groupby(df['Hour']).mean()\n",
    "Average_Energy_Excess = Ave_Solar_Gen - Ave_Elec_Used\n",
    "for i in range(len(Average_Energy_Excess)):\n",
    "    if (Average_Energy_Excess[i]<0):\n",
    "        Average_Energy_Excess[i]=0\n",
    "    else:\n",
    "        Average_Energy_Excess[i]=Average_Energy_Excess[i]\n",
    "Average_Energy_Excess"
   ]
  },
  {
   "cell_type": "markdown",
   "metadata": {},
   "source": [
    "On average, between 8 AM and 3PM there was no energy purchased because the amount of solar generated electricity was enough to supply the load at that time.\n",
    "\n",
    "The highest amount of energy purchased was at the evening hours between 6 Pm and 7 Pm."
   ]
  },
  {
   "cell_type": "code",
   "execution_count": 19,
   "metadata": {},
   "outputs": [
    {
     "data": {
      "text/plain": [
       "Text(0.5, 1.0, 'Mean Electricity used per Hour')"
      ]
     },
     "execution_count": 19,
     "metadata": {},
     "output_type": "execute_result"
    },
    {
     "data": {
      "image/png": "[encoded data removed]",
      "text/plain": [
       "<Figure size 1000x500 with 1 Axes>"
      ]
     },
     "metadata": {},
     "output_type": "display_data"
    }
   ],
   "source": [
    "fig =plt.figure(figsize=(10,5))\n",
    "sns.barplot(x='Hour',y=Ave_Elec_Used, data=df)\n",
    "plt.title('Mean Electricity used per Hour')"
   ]
  },
  {
   "cell_type": "markdown",
   "metadata": {},
   "source": [
    "We have the least load on electricity around 2 Am.\n",
    "The highest load is between 6PM and 7PM, this coincides with the time we have the highest energy purchased. "
   ]
  },
  {
   "cell_type": "code",
   "execution_count": 20,
   "metadata": {},
   "outputs": [
    {
     "data": {
      "image/png": "[encoded data removed]",
      "text/plain": [
       "<Figure size 1000x700 with 1 Axes>"
      ]
     },
     "metadata": {},
     "output_type": "display_data"
    }
   ],
   "source": [
    "fig = plt.figure(figsize=(10,7))\n",
    "sns.regplot(y=Average_Energy_bought,x=df['Hour'].unique(),order=2)\n",
    "plt.xlabel('Hour')\n",
    "plt.ylabel('Average_Energy_bought')\n",
    "plt.title('RegPlot Of Average Energy Bought Vs Hours');"
   ]
  },
  {
   "cell_type": "code",
   "execution_count": 21,
   "metadata": {},
   "outputs": [
    {
     "data": {
      "image/png": "[encoded data removed]",
      "text/plain": [
       "<Figure size 1000x700 with 1 Axes>"
      ]
     },
     "metadata": {},
     "output_type": "display_data"
    }
   ],
   "source": [
    "fig = plt.figure(figsize=(10,7))\n",
    "sns.regplot(y=Average_Energy_Excess,x=df['Hour'].unique(),order=2)\n",
    "plt.xlabel('Hour')\n",
    "plt.ylabel('Average_Energy_Excess')\n",
    "plt.title('RegPlot Of Average Energy Excess Vs Hours');"
   ]
  },
  {
   "cell_type": "markdown",
   "metadata": {},
   "source": [
    "Obtain the pearson Coefficient to know the impact of changes"
   ]
  },
  {
   "cell_type": "code",
   "execution_count": 22,
   "metadata": {},
   "outputs": [
    {
     "name": "stdout",
     "output_type": "stream",
     "text": [
      " The Pearson Coeffiecient for the above relationship is -0.17037427606017294 and the P_Value is 0.42606227791060824\n"
     ]
    }
   ],
   "source": [
    "from scipy import stats\n",
    "Pearson_coef,P_value = stats.pearsonr(df['Electricity usage (kWh)'].groupby(df['Hour']).mean(),Ave_Solar_Gen)\n",
    "print(f' The Pearson Coeffiecient for the above relationship is {Pearson_coef} and the P_Value is {P_value}')"
   ]
  },
  {
   "cell_type": "code",
   "execution_count": 23,
   "metadata": {},
   "outputs": [
    {
     "name": "stdout",
     "output_type": "stream",
     "text": [
      " The Pearson Coeffiecient for the above relationship is 0.6729658679235592 and the P_Value is 0.000313985214581123\n"
     ]
    }
   ],
   "source": [
    "Pearson_coef,P_value = stats.pearsonr(Ave_Elec_Used,df['Hour'].unique())\n",
    "print(f' The Pearson Coeffiecient for the above relationship is {Pearson_coef} and the P_Value is {P_value}')"
   ]
  },
  {
   "cell_type": "code",
   "execution_count": 24,
   "metadata": {},
   "outputs": [
    {
     "name": "stdout",
     "output_type": "stream",
     "text": [
      " The Pearson Coeffiecient for the above relationship is -0.04531637928895178 and the P_Value is 0.8334645891364016\n"
     ]
    }
   ],
   "source": [
    "Pearson_coef,P_value = stats.pearsonr(df['Hour'].unique(),Ave_Solar_Gen)\n",
    "print(f' The Pearson Coeffiecient for the above relationship is {Pearson_coef} and the P_Value is {P_value}')"
   ]
  },
  {
   "cell_type": "markdown",
   "metadata": {},
   "source": [
    "## Modelling"
   ]
  },
  {
   "cell_type": "code",
   "execution_count": 25,
   "metadata": {},
   "outputs": [
    {
     "data": {
      "text/html": [
       "<div>\n",
       "<style scoped>\n",
       "    .dataframe tbody tr th:only-of-type {\n",
       "        vertical-align: middle;\n",
       "    }\n",
       "\n",
       "    .dataframe tbody tr th {\n",
       "        vertical-align: top;\n",
       "    }\n",
       "\n",
       "    .dataframe thead th {\n",
       "        text-align: right;\n",
       "    }\n",
       "</style>\n",
       "<table border=\"1\" class=\"dataframe\">\n",
       "  <thead>\n",
       "    <tr style=\"text-align: right;\">\n",
       "      <th></th>\n",
       "      <th>Hour</th>\n",
       "      <th>Solar electricity generation (kWh)</th>\n",
       "      <th>Electricity usage (kWh)</th>\n",
       "      <th>Date</th>\n",
       "      <th>Bought Electricity</th>\n",
       "    </tr>\n",
       "  </thead>\n",
       "  <tbody>\n",
       "    <tr>\n",
       "      <th>0</th>\n",
       "      <td>0</td>\n",
       "      <td>0.0</td>\n",
       "      <td>1.509849</td>\n",
       "      <td>2020-01-01</td>\n",
       "      <td>1.509849</td>\n",
       "    </tr>\n",
       "    <tr>\n",
       "      <th>1</th>\n",
       "      <td>1</td>\n",
       "      <td>0.0</td>\n",
       "      <td>1.411859</td>\n",
       "      <td>2020-01-01</td>\n",
       "      <td>1.411859</td>\n",
       "    </tr>\n",
       "    <tr>\n",
       "      <th>2</th>\n",
       "      <td>2</td>\n",
       "      <td>0.0</td>\n",
       "      <td>1.023898</td>\n",
       "      <td>2020-01-01</td>\n",
       "      <td>1.023898</td>\n",
       "    </tr>\n",
       "    <tr>\n",
       "      <th>3</th>\n",
       "      <td>3</td>\n",
       "      <td>0.0</td>\n",
       "      <td>0.642000</td>\n",
       "      <td>2020-01-01</td>\n",
       "      <td>0.642000</td>\n",
       "    </tr>\n",
       "    <tr>\n",
       "      <th>4</th>\n",
       "      <td>4</td>\n",
       "      <td>0.0</td>\n",
       "      <td>0.960000</td>\n",
       "      <td>2020-01-01</td>\n",
       "      <td>0.960000</td>\n",
       "    </tr>\n",
       "  </tbody>\n",
       "</table>\n",
       "</div>"
      ],
      "text/plain": [
       "   Hour  Solar electricity generation (kWh)  Electricity usage (kWh)  \\\n",
       "0     0                                 0.0                 1.509849   \n",
       "1     1                                 0.0                 1.411859   \n",
       "2     2                                 0.0                 1.023898   \n",
       "3     3                                 0.0                 0.642000   \n",
       "4     4                                 0.0                 0.960000   \n",
       "\n",
       "        Date  Bought Electricity  \n",
       "0 2020-01-01            1.509849  \n",
       "1 2020-01-01            1.411859  \n",
       "2 2020-01-01            1.023898  \n",
       "3 2020-01-01            0.642000  \n",
       "4 2020-01-01            0.960000  "
      ]
     },
     "execution_count": 25,
     "metadata": {},
     "output_type": "execute_result"
    }
   ],
   "source": [
    "df.head()"
   ]
  },
  {
   "cell_type": "code",
   "execution_count": 26,
   "metadata": {},
   "outputs": [],
   "source": [
    "df.Date = df.Date.astype(str)"
   ]
  },
  {
   "cell_type": "code",
   "execution_count": 27,
   "metadata": {},
   "outputs": [
    {
     "name": "stderr",
     "output_type": "stream",
     "text": [
      "C:\\Users\\victo\\AppData\\Local\\Temp\\ipykernel_9432\\3698922118.py:6: SettingWithCopyWarning: \n",
      "A value is trying to be set on a copy of a slice from a DataFrame\n",
      "\n",
      "See the caveats in the documentation: https://pandas.pydata.org/pandas-docs/stable/user_guide/indexing.html#returning-a-view-versus-a-copy\n",
      "  df['Bat_charge'][record] = df['Bat_charge'][record-1]+df['Solar electricity generation (kWh)'][record]-df['Electricity usage (kWh)'][record]\n"
     ]
    },
    {
     "data": {
      "text/html": [
       "<div>\n",
       "<style scoped>\n",
       "    .dataframe tbody tr th:only-of-type {\n",
       "        vertical-align: middle;\n",
       "    }\n",
       "\n",
       "    .dataframe tbody tr th {\n",
       "        vertical-align: top;\n",
       "    }\n",
       "\n",
       "    .dataframe thead th {\n",
       "        text-align: right;\n",
       "    }\n",
       "</style>\n",
       "<table border=\"1\" class=\"dataframe\">\n",
       "  <thead>\n",
       "    <tr style=\"text-align: right;\">\n",
       "      <th></th>\n",
       "      <th>Hour</th>\n",
       "      <th>Solar electricity generation (kWh)</th>\n",
       "      <th>Electricity usage (kWh)</th>\n",
       "      <th>Date</th>\n",
       "      <th>Bought Electricity</th>\n",
       "      <th>Bat_charge</th>\n",
       "    </tr>\n",
       "  </thead>\n",
       "  <tbody>\n",
       "    <tr>\n",
       "      <th>0</th>\n",
       "      <td>0</td>\n",
       "      <td>0.0</td>\n",
       "      <td>1.509849</td>\n",
       "      <td>2020-01-01</td>\n",
       "      <td>1.509849</td>\n",
       "      <td>0.0</td>\n",
       "    </tr>\n",
       "    <tr>\n",
       "      <th>1</th>\n",
       "      <td>1</td>\n",
       "      <td>0.0</td>\n",
       "      <td>1.411859</td>\n",
       "      <td>2020-01-01</td>\n",
       "      <td>1.411859</td>\n",
       "      <td>0.0</td>\n",
       "    </tr>\n",
       "    <tr>\n",
       "      <th>2</th>\n",
       "      <td>2</td>\n",
       "      <td>0.0</td>\n",
       "      <td>1.023898</td>\n",
       "      <td>2020-01-01</td>\n",
       "      <td>1.023898</td>\n",
       "      <td>0.0</td>\n",
       "    </tr>\n",
       "    <tr>\n",
       "      <th>3</th>\n",
       "      <td>3</td>\n",
       "      <td>0.0</td>\n",
       "      <td>0.642000</td>\n",
       "      <td>2020-01-01</td>\n",
       "      <td>0.642000</td>\n",
       "      <td>0.0</td>\n",
       "    </tr>\n",
       "    <tr>\n",
       "      <th>4</th>\n",
       "      <td>4</td>\n",
       "      <td>0.0</td>\n",
       "      <td>0.960000</td>\n",
       "      <td>2020-01-01</td>\n",
       "      <td>0.960000</td>\n",
       "      <td>0.0</td>\n",
       "    </tr>\n",
       "  </tbody>\n",
       "</table>\n",
       "</div>"
      ],
      "text/plain": [
       "   Hour  Solar electricity generation (kWh)  Electricity usage (kWh)  \\\n",
       "0     0                                 0.0                 1.509849   \n",
       "1     1                                 0.0                 1.411859   \n",
       "2     2                                 0.0                 1.023898   \n",
       "3     3                                 0.0                 0.642000   \n",
       "4     4                                 0.0                 0.960000   \n",
       "\n",
       "         Date  Bought Electricity  Bat_charge  \n",
       "0  2020-01-01            1.509849         0.0  \n",
       "1  2020-01-01            1.411859         0.0  \n",
       "2  2020-01-01            1.023898         0.0  \n",
       "3  2020-01-01            0.642000         0.0  \n",
       "4  2020-01-01            0.960000         0.0  "
      ]
     },
     "execution_count": 27,
     "metadata": {},
     "output_type": "execute_result"
    }
   ],
   "source": [
    "for record in range(len(df)):\n",
    "    if (df['Date'][record] == '2020-01-01' and df['Hour'][record]== 0):\n",
    "        df['Bat_charge']= 0\n",
    "    else:\n",
    "        if record>0:\n",
    "            df['Bat_charge'][record] = df['Bat_charge'][record-1]+df['Solar electricity generation (kWh)'][record]-df['Electricity usage (kWh)'][record]\n",
    "            if df['Bat_charge'][record] < 0:\n",
    "                df['Bat_charge'][record] = 0\n",
    "            elif df['Bat_charge'][record]>12.5:\n",
    "                df['Bat_charge'][record] = 12.5\n",
    "df.head()"
   ]
  },
  {
   "cell_type": "code",
   "execution_count": 28,
   "metadata": {},
   "outputs": [
    {
     "data": {
      "text/plain": [
       "Series([], dtype: int64)"
      ]
     },
     "execution_count": 28,
     "metadata": {},
     "output_type": "execute_result"
    }
   ],
   "source": [
    "# Inspect for Battery charge above the maximum limit od 12.5\n",
    "df[df['Bat_charge']>12.5].value_counts()"
   ]
  },
  {
   "cell_type": "code",
   "execution_count": 29,
   "metadata": {},
   "outputs": [
    {
     "data": {
      "text/plain": [
       "Series([], dtype: int64)"
      ]
     },
     "execution_count": 29,
     "metadata": {},
     "output_type": "execute_result"
    }
   ],
   "source": [
    "# Inspect for Battery charge below the minimum limit of 0\n",
    "df[df['Bat_charge']<0].value_counts()"
   ]
  },
  {
   "cell_type": "code",
   "execution_count": 30,
   "metadata": {},
   "outputs": [
    {
     "data": {
      "text/plain": [
       "0.0000     4779\n",
       "12.5000    1093\n",
       "0.7620        4\n",
       "0.1560        4\n",
       "0.2400        4\n",
       "           ... \n",
       "1.3070        1\n",
       "0.1064        1\n",
       "2.9820        1\n",
       "7.9950        1\n",
       "1.1250        1\n",
       "Name: Bat_charge, Length: 2693, dtype: int64"
      ]
     },
     "execution_count": 30,
     "metadata": {},
     "output_type": "execute_result"
    }
   ],
   "source": [
    "df['Bat_charge'].value_counts()"
   ]
  },
  {
   "cell_type": "code",
   "execution_count": 31,
   "metadata": {},
   "outputs": [
    {
     "name": "stderr",
     "output_type": "stream",
     "text": [
      "C:\\Users\\victo\\AppData\\Local\\Temp\\ipykernel_9432\\671254411.py:3: SettingWithCopyWarning: \n",
      "A value is trying to be set on a copy of a slice from a DataFrame\n",
      "\n",
      "See the caveats in the documentation: https://pandas.pydata.org/pandas-docs/stable/user_guide/indexing.html#returning-a-view-versus-a-copy\n",
      "  df['Battery_electricity_bought'][records] = df['Bought Electricity'][records]-df['Bat_charge'][records-1]\n",
      "C:\\Users\\victo\\AppData\\Local\\Temp\\ipykernel_9432\\671254411.py:5: SettingWithCopyWarning: \n",
      "A value is trying to be set on a copy of a slice from a DataFrame\n",
      "\n",
      "See the caveats in the documentation: https://pandas.pydata.org/pandas-docs/stable/user_guide/indexing.html#returning-a-view-versus-a-copy\n",
      "  df['Battery_electricity_bought'][records]= 0\n"
     ]
    },
    {
     "data": {
      "text/html": [
       "<div>\n",
       "<style scoped>\n",
       "    .dataframe tbody tr th:only-of-type {\n",
       "        vertical-align: middle;\n",
       "    }\n",
       "\n",
       "    .dataframe tbody tr th {\n",
       "        vertical-align: top;\n",
       "    }\n",
       "\n",
       "    .dataframe thead th {\n",
       "        text-align: right;\n",
       "    }\n",
       "</style>\n",
       "<table border=\"1\" class=\"dataframe\">\n",
       "  <thead>\n",
       "    <tr style=\"text-align: right;\">\n",
       "      <th></th>\n",
       "      <th>Hour</th>\n",
       "      <th>Solar electricity generation (kWh)</th>\n",
       "      <th>Electricity usage (kWh)</th>\n",
       "      <th>Date</th>\n",
       "      <th>Bought Electricity</th>\n",
       "      <th>Bat_charge</th>\n",
       "      <th>Battery_electricity_bought</th>\n",
       "    </tr>\n",
       "  </thead>\n",
       "  <tbody>\n",
       "    <tr>\n",
       "      <th>0</th>\n",
       "      <td>0</td>\n",
       "      <td>0.000</td>\n",
       "      <td>1.509849</td>\n",
       "      <td>2020-01-01</td>\n",
       "      <td>1.509849</td>\n",
       "      <td>0.0</td>\n",
       "      <td>1.509849</td>\n",
       "    </tr>\n",
       "    <tr>\n",
       "      <th>1</th>\n",
       "      <td>1</td>\n",
       "      <td>0.000</td>\n",
       "      <td>1.411859</td>\n",
       "      <td>2020-01-01</td>\n",
       "      <td>1.411859</td>\n",
       "      <td>0.0</td>\n",
       "      <td>1.411859</td>\n",
       "    </tr>\n",
       "    <tr>\n",
       "      <th>2</th>\n",
       "      <td>2</td>\n",
       "      <td>0.000</td>\n",
       "      <td>1.023898</td>\n",
       "      <td>2020-01-01</td>\n",
       "      <td>1.023898</td>\n",
       "      <td>0.0</td>\n",
       "      <td>1.023898</td>\n",
       "    </tr>\n",
       "    <tr>\n",
       "      <th>3</th>\n",
       "      <td>3</td>\n",
       "      <td>0.000</td>\n",
       "      <td>0.642000</td>\n",
       "      <td>2020-01-01</td>\n",
       "      <td>0.642000</td>\n",
       "      <td>0.0</td>\n",
       "      <td>0.642000</td>\n",
       "    </tr>\n",
       "    <tr>\n",
       "      <th>4</th>\n",
       "      <td>4</td>\n",
       "      <td>0.000</td>\n",
       "      <td>0.960000</td>\n",
       "      <td>2020-01-01</td>\n",
       "      <td>0.960000</td>\n",
       "      <td>0.0</td>\n",
       "      <td>0.960000</td>\n",
       "    </tr>\n",
       "    <tr>\n",
       "      <th>...</th>\n",
       "      <td>...</td>\n",
       "      <td>...</td>\n",
       "      <td>...</td>\n",
       "      <td>...</td>\n",
       "      <td>...</td>\n",
       "      <td>...</td>\n",
       "      <td>...</td>\n",
       "    </tr>\n",
       "    <tr>\n",
       "      <th>75</th>\n",
       "      <td>3</td>\n",
       "      <td>0.000</td>\n",
       "      <td>0.189000</td>\n",
       "      <td>2020-01-04</td>\n",
       "      <td>0.189000</td>\n",
       "      <td>0.0</td>\n",
       "      <td>0.189000</td>\n",
       "    </tr>\n",
       "    <tr>\n",
       "      <th>76</th>\n",
       "      <td>4</td>\n",
       "      <td>0.000</td>\n",
       "      <td>0.195000</td>\n",
       "      <td>2020-01-04</td>\n",
       "      <td>0.195000</td>\n",
       "      <td>0.0</td>\n",
       "      <td>0.195000</td>\n",
       "    </tr>\n",
       "    <tr>\n",
       "      <th>77</th>\n",
       "      <td>5</td>\n",
       "      <td>0.009</td>\n",
       "      <td>0.477000</td>\n",
       "      <td>2020-01-04</td>\n",
       "      <td>0.468000</td>\n",
       "      <td>0.0</td>\n",
       "      <td>0.468000</td>\n",
       "    </tr>\n",
       "    <tr>\n",
       "      <th>78</th>\n",
       "      <td>6</td>\n",
       "      <td>0.009</td>\n",
       "      <td>0.228000</td>\n",
       "      <td>2020-01-04</td>\n",
       "      <td>0.219000</td>\n",
       "      <td>0.0</td>\n",
       "      <td>0.219000</td>\n",
       "    </tr>\n",
       "    <tr>\n",
       "      <th>79</th>\n",
       "      <td>7</td>\n",
       "      <td>0.012</td>\n",
       "      <td>5.256000</td>\n",
       "      <td>2020-01-04</td>\n",
       "      <td>5.244000</td>\n",
       "      <td>0.0</td>\n",
       "      <td>5.244000</td>\n",
       "    </tr>\n",
       "  </tbody>\n",
       "</table>\n",
       "<p>80 rows × 7 columns</p>\n",
       "</div>"
      ],
      "text/plain": [
       "    Hour  Solar electricity generation (kWh)  Electricity usage (kWh)  \\\n",
       "0      0                               0.000                 1.509849   \n",
       "1      1                               0.000                 1.411859   \n",
       "2      2                               0.000                 1.023898   \n",
       "3      3                               0.000                 0.642000   \n",
       "4      4                               0.000                 0.960000   \n",
       "..   ...                                 ...                      ...   \n",
       "75     3                               0.000                 0.189000   \n",
       "76     4                               0.000                 0.195000   \n",
       "77     5                               0.009                 0.477000   \n",
       "78     6                               0.009                 0.228000   \n",
       "79     7                               0.012                 5.256000   \n",
       "\n",
       "          Date  Bought Electricity  Bat_charge  Battery_electricity_bought  \n",
       "0   2020-01-01            1.509849         0.0                    1.509849  \n",
       "1   2020-01-01            1.411859         0.0                    1.411859  \n",
       "2   2020-01-01            1.023898         0.0                    1.023898  \n",
       "3   2020-01-01            0.642000         0.0                    0.642000  \n",
       "4   2020-01-01            0.960000         0.0                    0.960000  \n",
       "..         ...                 ...         ...                         ...  \n",
       "75  2020-01-04            0.189000         0.0                    0.189000  \n",
       "76  2020-01-04            0.195000         0.0                    0.195000  \n",
       "77  2020-01-04            0.468000         0.0                    0.468000  \n",
       "78  2020-01-04            0.219000         0.0                    0.219000  \n",
       "79  2020-01-04            5.244000         0.0                    5.244000  \n",
       "\n",
       "[80 rows x 7 columns]"
      ]
     },
     "execution_count": 31,
     "metadata": {},
     "output_type": "execute_result"
    }
   ],
   "source": [
    "for records in range(len(df)):\n",
    "    if records>0:\n",
    "        df['Battery_electricity_bought'][records] = df['Bought Electricity'][records]-df['Bat_charge'][records-1]\n",
    "        if df['Battery_electricity_bought'][records] < 0:\n",
    "                df['Battery_electricity_bought'][records]= 0\n",
    "    else:\n",
    "        df['Battery_electricity_bought']= df['Bought Electricity'][records]\n",
    "\n",
    "\n",
    "df.head(80)"
   ]
  },
  {
   "cell_type": "code",
   "execution_count": 32,
   "metadata": {},
   "outputs": [
    {
     "name": "stderr",
     "output_type": "stream",
     "text": [
      "C:\\Users\\victo\\AppData\\Local\\Temp\\ipykernel_9432\\1495046505.py:3: SettingWithCopyWarning: \n",
      "A value is trying to be set on a copy of a slice from a DataFrame\n",
      "\n",
      "See the caveats in the documentation: https://pandas.pydata.org/pandas-docs/stable/user_guide/indexing.html#returning-a-view-versus-a-copy\n",
      "  df['Saving by battery'][records]= (df['Battery_electricity_bought'][records] - df['Bought Electricity'][records])*0.17\n"
     ]
    },
    {
     "data": {
      "text/html": [
       "<div>\n",
       "<style scoped>\n",
       "    .dataframe tbody tr th:only-of-type {\n",
       "        vertical-align: middle;\n",
       "    }\n",
       "\n",
       "    .dataframe tbody tr th {\n",
       "        vertical-align: top;\n",
       "    }\n",
       "\n",
       "    .dataframe thead th {\n",
       "        text-align: right;\n",
       "    }\n",
       "</style>\n",
       "<table border=\"1\" class=\"dataframe\">\n",
       "  <thead>\n",
       "    <tr style=\"text-align: right;\">\n",
       "      <th></th>\n",
       "      <th>Hour</th>\n",
       "      <th>Solar electricity generation (kWh)</th>\n",
       "      <th>Electricity usage (kWh)</th>\n",
       "      <th>Date</th>\n",
       "      <th>Bought Electricity</th>\n",
       "      <th>Bat_charge</th>\n",
       "      <th>Battery_electricity_bought</th>\n",
       "      <th>Saving by battery</th>\n",
       "    </tr>\n",
       "  </thead>\n",
       "  <tbody>\n",
       "    <tr>\n",
       "      <th>0</th>\n",
       "      <td>0</td>\n",
       "      <td>0.0</td>\n",
       "      <td>1.509849</td>\n",
       "      <td>2020-01-01</td>\n",
       "      <td>1.509849</td>\n",
       "      <td>0.0</td>\n",
       "      <td>1.509849</td>\n",
       "      <td>-7000.0</td>\n",
       "    </tr>\n",
       "    <tr>\n",
       "      <th>1</th>\n",
       "      <td>1</td>\n",
       "      <td>0.0</td>\n",
       "      <td>1.411859</td>\n",
       "      <td>2020-01-01</td>\n",
       "      <td>1.411859</td>\n",
       "      <td>0.0</td>\n",
       "      <td>1.411859</td>\n",
       "      <td>0.0</td>\n",
       "    </tr>\n",
       "    <tr>\n",
       "      <th>2</th>\n",
       "      <td>2</td>\n",
       "      <td>0.0</td>\n",
       "      <td>1.023898</td>\n",
       "      <td>2020-01-01</td>\n",
       "      <td>1.023898</td>\n",
       "      <td>0.0</td>\n",
       "      <td>1.023898</td>\n",
       "      <td>0.0</td>\n",
       "    </tr>\n",
       "    <tr>\n",
       "      <th>3</th>\n",
       "      <td>3</td>\n",
       "      <td>0.0</td>\n",
       "      <td>0.642000</td>\n",
       "      <td>2020-01-01</td>\n",
       "      <td>0.642000</td>\n",
       "      <td>0.0</td>\n",
       "      <td>0.642000</td>\n",
       "      <td>0.0</td>\n",
       "    </tr>\n",
       "    <tr>\n",
       "      <th>4</th>\n",
       "      <td>4</td>\n",
       "      <td>0.0</td>\n",
       "      <td>0.960000</td>\n",
       "      <td>2020-01-01</td>\n",
       "      <td>0.960000</td>\n",
       "      <td>0.0</td>\n",
       "      <td>0.960000</td>\n",
       "      <td>0.0</td>\n",
       "    </tr>\n",
       "  </tbody>\n",
       "</table>\n",
       "</div>"
      ],
      "text/plain": [
       "   Hour  Solar electricity generation (kWh)  Electricity usage (kWh)  \\\n",
       "0     0                                 0.0                 1.509849   \n",
       "1     1                                 0.0                 1.411859   \n",
       "2     2                                 0.0                 1.023898   \n",
       "3     3                                 0.0                 0.642000   \n",
       "4     4                                 0.0                 0.960000   \n",
       "\n",
       "         Date  Bought Electricity  Bat_charge  Battery_electricity_bought  \\\n",
       "0  2020-01-01            1.509849         0.0                    1.509849   \n",
       "1  2020-01-01            1.411859         0.0                    1.411859   \n",
       "2  2020-01-01            1.023898         0.0                    1.023898   \n",
       "3  2020-01-01            0.642000         0.0                    0.642000   \n",
       "4  2020-01-01            0.960000         0.0                    0.960000   \n",
       "\n",
       "   Saving by battery  \n",
       "0            -7000.0  \n",
       "1                0.0  \n",
       "2                0.0  \n",
       "3                0.0  \n",
       "4                0.0  "
      ]
     },
     "execution_count": 32,
     "metadata": {},
     "output_type": "execute_result"
    }
   ],
   "source": [
    "for records in range(len(df)):\n",
    "    if records>0:\n",
    "        df['Saving by battery'][records]= (df['Battery_electricity_bought'][records] - df['Bought Electricity'][records])*0.17\n",
    "    else:\n",
    "        df['Saving by battery']= (df['Battery_electricity_bought'][records] - df['Bought Electricity'][records])*0.17 - 7000\n",
    "df.head()"
   ]
  },
  {
   "cell_type": "code",
   "execution_count": 33,
   "metadata": {},
   "outputs": [
    {
     "data": {
      "text/plain": [
       "dtype('O')"
      ]
     },
     "execution_count": 33,
     "metadata": {},
     "output_type": "execute_result"
    }
   ],
   "source": [
    "df.Date.dtype"
   ]
  },
  {
   "cell_type": "code",
   "execution_count": 34,
   "metadata": {},
   "outputs": [
    {
     "data": {
      "text/html": [
       "<div>\n",
       "<style scoped>\n",
       "    .dataframe tbody tr th:only-of-type {\n",
       "        vertical-align: middle;\n",
       "    }\n",
       "\n",
       "    .dataframe tbody tr th {\n",
       "        vertical-align: top;\n",
       "    }\n",
       "\n",
       "    .dataframe thead th {\n",
       "        text-align: right;\n",
       "    }\n",
       "</style>\n",
       "<table border=\"1\" class=\"dataframe\">\n",
       "  <thead>\n",
       "    <tr style=\"text-align: right;\">\n",
       "      <th></th>\n",
       "      <th>Hour</th>\n",
       "      <th>Solar electricity generation (kWh)</th>\n",
       "      <th>Electricity usage (kWh)</th>\n",
       "      <th>Bought Electricity</th>\n",
       "      <th>Bat_charge</th>\n",
       "      <th>Battery_electricity_bought</th>\n",
       "      <th>Saving by battery</th>\n",
       "    </tr>\n",
       "    <tr>\n",
       "      <th>Date</th>\n",
       "      <th></th>\n",
       "      <th></th>\n",
       "      <th></th>\n",
       "      <th></th>\n",
       "      <th></th>\n",
       "      <th></th>\n",
       "      <th></th>\n",
       "    </tr>\n",
       "  </thead>\n",
       "  <tbody>\n",
       "    <tr>\n",
       "      <th>2020-01-31</th>\n",
       "      <td>8556</td>\n",
       "      <td>266.259</td>\n",
       "      <td>1767.193718</td>\n",
       "      <td>1643.776718</td>\n",
       "      <td>659.782400</td>\n",
       "      <td>1511.651718</td>\n",
       "      <td>-7022.461250</td>\n",
       "    </tr>\n",
       "    <tr>\n",
       "      <th>2020-02-29</th>\n",
       "      <td>7728</td>\n",
       "      <td>449.634</td>\n",
       "      <td>1559.929310</td>\n",
       "      <td>1392.808310</td>\n",
       "      <td>1206.374600</td>\n",
       "      <td>1190.911310</td>\n",
       "      <td>-34.322490</td>\n",
       "    </tr>\n",
       "    <tr>\n",
       "      <th>2020-03-31</th>\n",
       "      <td>8556</td>\n",
       "      <td>602.451</td>\n",
       "      <td>1797.859450</td>\n",
       "      <td>1619.011450</td>\n",
       "      <td>1604.424023</td>\n",
       "      <td>1384.846450</td>\n",
       "      <td>-39.808050</td>\n",
       "    </tr>\n",
       "    <tr>\n",
       "      <th>2020-04-30</th>\n",
       "      <td>8280</td>\n",
       "      <td>915.132</td>\n",
       "      <td>1726.356487</td>\n",
       "      <td>1460.504519</td>\n",
       "      <td>2246.791213</td>\n",
       "      <td>1144.120799</td>\n",
       "      <td>-53.785232</td>\n",
       "    </tr>\n",
       "    <tr>\n",
       "      <th>2020-05-31</th>\n",
       "      <td>8556</td>\n",
       "      <td>1641.360</td>\n",
       "      <td>946.317809</td>\n",
       "      <td>717.333809</td>\n",
       "      <td>4759.129844</td>\n",
       "      <td>339.930493</td>\n",
       "      <td>-64.158564</td>\n",
       "    </tr>\n",
       "  </tbody>\n",
       "</table>\n",
       "</div>"
      ],
      "text/plain": [
       "            Hour  Solar electricity generation (kWh)  Electricity usage (kWh)  \\\n",
       "Date                                                                            \n",
       "2020-01-31  8556                             266.259              1767.193718   \n",
       "2020-02-29  7728                             449.634              1559.929310   \n",
       "2020-03-31  8556                             602.451              1797.859450   \n",
       "2020-04-30  8280                             915.132              1726.356487   \n",
       "2020-05-31  8556                            1641.360               946.317809   \n",
       "\n",
       "            Bought Electricity   Bat_charge  Battery_electricity_bought  \\\n",
       "Date                                                                      \n",
       "2020-01-31         1643.776718   659.782400                 1511.651718   \n",
       "2020-02-29         1392.808310  1206.374600                 1190.911310   \n",
       "2020-03-31         1619.011450  1604.424023                 1384.846450   \n",
       "2020-04-30         1460.504519  2246.791213                 1144.120799   \n",
       "2020-05-31          717.333809  4759.129844                  339.930493   \n",
       "\n",
       "            Saving by battery  \n",
       "Date                           \n",
       "2020-01-31       -7022.461250  \n",
       "2020-02-29         -34.322490  \n",
       "2020-03-31         -39.808050  \n",
       "2020-04-30         -53.785232  \n",
       "2020-05-31         -64.158564  "
      ]
     },
     "execution_count": 34,
     "metadata": {},
     "output_type": "execute_result"
    }
   ],
   "source": [
    "df['Date']=pd.to_datetime(df['Date'],format='%Y-%m-%d')\n",
    "df2 = df.groupby(pd.Grouper(key='Date', freq='m')).sum()\n",
    "df2.head()"
   ]
  },
  {
   "cell_type": "markdown",
   "metadata": {},
   "source": [
    "# Visuals to show the monthly trend for the year 2020"
   ]
  },
  {
   "cell_type": "code",
   "execution_count": 35,
   "metadata": {},
   "outputs": [
    {
     "data": {
      "text/plain": [
       "<Axes: xlabel='Date'>"
      ]
     },
     "execution_count": 35,
     "metadata": {},
     "output_type": "execute_result"
    },
    {
     "data": {
      "image/png": "[encoded data removed]",
      "text/plain": [
       "<Figure size 640x480 with 1 Axes>"
      ]
     },
     "metadata": {},
     "output_type": "display_data"
    }
   ],
   "source": [
    "df2.plot(y='Electricity usage (kWh)')"
   ]
  },
  {
   "cell_type": "code",
   "execution_count": null,
   "metadata": {},
   "outputs": [
    {
     "data": {
      "text/plain": [
       "<Axes: xlabel='Date'>"
      ]
     },
     "metadata": {},
     "output_type": "display_data"
    },
    {
     "data": {
      "image/png": "[encoded data removed]",
      "text/plain": [
       "<Figure size 640x480 with 1 Axes>"
      ]
     },
     "metadata": {},
     "output_type": "display_data"
    }
   ],
   "source": [
    "df2.plot(y='Solar electricity generation (kWh)')"
   ]
  },
  {
   "cell_type": "code",
   "execution_count": 39,
   "metadata": {},
   "outputs": [
    {
     "data": {
      "text/plain": [
       "<Axes: xlabel='Date'>"
      ]
     },
     "execution_count": 39,
     "metadata": {},
     "output_type": "execute_result"
    },
    {
     "data": {
      "image/png": "[encoded data removed]",
      "text/plain": [
       "<Figure size 640x480 with 1 Axes>"
      ]
     },
     "metadata": {},
     "output_type": "display_data"
    }
   ],
   "source": [
    "df2.plot(y=['Solar electricity generation (kWh)','Electricity usage (kWh)'])"
   ]
  },
  {
   "cell_type": "code",
   "execution_count": 37,
   "metadata": {},
   "outputs": [
    {
     "data": {
      "text/plain": [
       "<Axes: xlabel='Date'>"
      ]
     },
     "execution_count": 37,
     "metadata": {},
     "output_type": "execute_result"
    },
    {
     "data": {
      "image/png": "[encoded data removed]",
      "text/plain": [
       "<Figure size 640x480 with 1 Axes>"
      ]
     },
     "metadata": {},
     "output_type": "display_data"
    }
   ],
   "source": [
    "df2.plot(y= ['Bought Electricity', 'Battery_electricity_bought'])"
   ]
  },
  {
   "cell_type": "code",
   "execution_count": 38,
   "metadata": {},
   "outputs": [
    {
     "data": {
      "text/plain": [
       "0.0"
      ]
     },
     "execution_count": 38,
     "metadata": {},
     "output_type": "execute_result"
    }
   ],
   "source": [
    "df['Battery_electricity_bought'].min()"
   ]
  }
 ],
 "metadata": {
  "kernelspec": {
   "display_name": "base",
   "language": "python",
   "name": "python3"
  },
  "language_info": {
   "codemirror_mode": {
    "name": "ipython",
    "version": 3
   },
   "file_extension": ".py",
   "mimetype": "text/x-python",
   "name": "python",
   "nbconvert_exporter": "python",
   "pygments_lexer": "ipython3",
   "version": "3.10.11"
  },
  "orig_nbformat": 4
 },
 "nbformat": 4,
 "nbformat_minor": 2
}
